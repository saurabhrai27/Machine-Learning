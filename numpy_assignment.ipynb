{
 "cells": [
  {
   "cell_type": "markdown",
   "metadata": {},
   "source": [
    " ## Problem Statement - 1\n",
    " \n",
    "Write a function so that the columns of the output matrix are powers of the input vector. \n",
    " \n",
    "The order of the powers is determined by the increasing boolean argument. Specifically, when increasing is False, the i-th output column is the input vector raised element-wise to the power of N - i - 1.\n",
    " \n",
    " \n",
    "HINT: Such a matrix with a geometric progression in each row is named for AlexandreTheophile Vandermonde. "
   ]
  },
  {
   "cell_type": "code",
   "execution_count": 30,
   "metadata": {},
   "outputs": [],
   "source": [
    "import numpy as np"
   ]
  },
  {
   "cell_type": "code",
   "execution_count": 27,
   "metadata": {},
   "outputs": [
    {
     "name": "stdout",
     "output_type": "stream",
     "text": [
      "\n",
      "------------OUTPUT 1-------------\n",
      "\n",
      "Vander monde matrix in increasing oder \n",
      " [[ 1  1  1]\n",
      " [ 1  2  4]\n",
      " [ 1  3  9]\n",
      " [ 1  4 16]\n",
      " [ 1  5 25]]\n",
      "\n",
      "------------OUTPUT 2-------------\n",
      "\n",
      "Vander monde matrix in decreasing oder \n",
      " [[ 1  1  1]\n",
      " [ 4  2  1]\n",
      " [ 9  3  1]\n",
      " [16  4  1]\n",
      " [25  5  1]]\n"
     ]
    }
   ],
   "source": [
    "def vandermonde_matrix_genrator(vector, n, increasing = False):\n",
    "    \n",
    "    if increasing == False:\n",
    "        op_matx = np.array([x**(n-1-i) for x in vector for i in range(n)]).reshape(vector.size,n)\n",
    "    else:\n",
    "        op_matx = np.array([x**i for x in vector for i in range(n)]).reshape(vector.size,n)\n",
    "    \n",
    "    return op_matx\n",
    "\n",
    "input_vector = np.array([1,2,3,4,5])\n",
    "num_col = 3\n",
    "op_inc = vandermonde_matrix_genrator(input_vector,num_col,True)\n",
    "op_dec = vandermonde_matrix_genrator(input_vector,num_col,False)\n",
    "print('\\n------------OUTPUT 1-------------\\n')\n",
    "print('Vander monde matrix in increasing oder \\n',op_inc)\n",
    "print('\\n------------OUTPUT 2-------------\\n')\n",
    "print('Vander monde matrix in decreasing oder \\n',op_dec)"
   ]
  },
  {
   "cell_type": "markdown",
   "metadata": {},
   "source": [
    "## Problem Statement - 2\n",
    "\n",
    "Given a sequence of n values x1, x2, ..., xn and a window size k>0, the k-th moving average of the given sequence is defined as follows: \n",
    "The moving average sequence has n-k+1 elements as shown below.  \n",
    "The moving averages with k=4 of a ten-value sequence (n=10) is shown below:-"
   ]
  },
  {
   "cell_type": "code",
   "execution_count": 29,
   "metadata": {},
   "outputs": [],
   "source": [
    "#i 1  2  3  4  5  6  7  8  9 10  \n",
    "#===== == == == == == == == == == ==\n",
    "#Input 10 20 30 40 50 60 70 80 90 100\n",
    "#y1      25 = (10+20+30+40)/4\n",
    "#y2      35 = (20+30+40+50)/4  \n",
    "#y3      45 = (30+40+50+60)/4  \n",
    "#y4      55 = (40+50+60+70)/4 \n",
    "#y5      65 = (50+60+70+80)/4 \n",
    "#y6      75 = (60+70+80+90)/4 \n",
    "#y7      85 = (70+80+90+100)/4 \n",
    "#Thus, the moving average sequence has n-k+1=10-4+1=7 values. "
   ]
  },
  {
   "cell_type": "markdown",
   "metadata": {},
   "source": [
    "#### Question: \n",
    "Write a function to find moving average in an array over a window:          \n",
    "Test it over [3, 5, 7, 2, 8, 10, 11, 65, 72, 81, 99, 100, 150] and window of 3"
   ]
  },
  {
   "cell_type": "code",
   "execution_count": 62,
   "metadata": {},
   "outputs": [
    {
     "name": "stdout",
     "output_type": "stream",
     "text": [
      "y1 = 5\n",
      "y2 = 4\n",
      "y3 = 5\n",
      "y4 = 6\n",
      "y5 = 9\n",
      "y6 = 28\n",
      "y7 = 49\n",
      "y8 = 72\n",
      "y9 = 84\n",
      "y10 = 93\n",
      "y11 = 116\n",
      "The moving average sequence has n - k + 1 = 11 values\n"
     ]
    }
   ],
   "source": [
    "def moving_average(l,n,k):\n",
    "    for i in range(n-k+1):\n",
    "        avr = 0\n",
    "        for j in range(i,i+k):\n",
    "            avr += l[j]\n",
    "            \n",
    "        print('y' + str(i+1)+ ' =',avr//k)\n",
    "\n",
    "arr = np.array([3, 5, 7, 2, 8, 10, 11, 65, 72, 81, 99, 100, 150])\n",
    "kth = 3\n",
    "s = arr.size\n",
    "moving_average(array,s,kth)\n",
    "print(f'The moving average sequence has n - k + 1 = {s-kth+1} values')"
   ]
  }
 ],
 "metadata": {
  "kernelspec": {
   "display_name": "Python 3",
   "language": "python",
   "name": "python3"
  },
  "language_info": {
   "codemirror_mode": {
    "name": "ipython",
    "version": 3
   },
   "file_extension": ".py",
   "mimetype": "text/x-python",
   "name": "python",
   "nbconvert_exporter": "python",
   "pygments_lexer": "ipython3",
   "version": "3.7.7"
  }
 },
 "nbformat": 4,
 "nbformat_minor": 4
}
