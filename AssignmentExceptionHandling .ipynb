{
 "cells": [
  {
   "cell_type": "markdown",
   "metadata": {},
   "source": [
    "## 1\n",
    "\n",
    "### Problem Statement\n",
    "\n",
    "Write a function to compute 5/0 and use try/except to catch the exceptions."
   ]
  },
  {
   "cell_type": "code",
   "execution_count": 3,
   "metadata": {},
   "outputs": [
    {
     "name": "stdout",
     "output_type": "stream",
     "text": [
      "Divison by zero!!\n",
      "Check your input values\n"
     ]
    }
   ],
   "source": [
    "def func(a,b):\n",
    "    ''' takes two integer's as input '''\n",
    "    try :\n",
    "        div = a/b\n",
    "    \n",
    "    except ZeroDivisionError :\n",
    "        print(\"Divison by zero!!\")\n",
    "        print(\"Check your input values\")\n",
    "    \n",
    "    except :\n",
    "        print(\"Unexpected erro!!\")\n",
    "        print(\"Check your input values\")\n",
    "        \n",
    "func(5,0)        "
   ]
  },
  {
   "cell_type": "markdown",
   "metadata": {},
   "source": [
    "## 2 \n",
    "\n",
    "### Problem Statement\n",
    "\n",
    "Implement a Python program to generate all sentences where subject is in [\"Americans\", \"Indians\"] and verb is in [\"Play\", \"watch\"] and the object is in [\"Baseball\",\"cricket\"]. \n",
    " \n",
    "Hint: Subject,Verb and Object should be declared in the program as shown below. \n",
    " \n",
    "subjects=[\"Americans \",\"Indians\"] \n",
    ",verbs=[\"play\",\"watch\"] \n",
    ",objects=[\"Baseball\",\"Cricket\"] \n",
    " \n",
    "Output should come as below: \n",
    " \n",
    " Americans play Baseball. \n",
    " Americans play Cricket. \n",
    " Americans watch Baseball. \n",
    " Americans watch Cricket. \n",
    " Indians play Baseball. \n",
    " Indians play Cricket. \n",
    " Indians watch Baseball. \n",
    " Indians watch Cricket."
   ]
  },
  {
   "cell_type": "code",
   "execution_count": 10,
   "metadata": {},
   "outputs": [
    {
     "name": "stdout",
     "output_type": "stream",
     "text": [
      "Americans play Baseball\n",
      "Americans play Cricket\n",
      "Americans watch Baseball\n",
      "Americans watch Cricket\n",
      "Indians play Baseball\n",
      "Indians play Cricket\n",
      "Indians watch Baseball\n",
      "Indians watch Cricket\n"
     ]
    }
   ],
   "source": [
    "subjects = [\"Americans\",\"Indians\"]\n",
    "verbs=[\"play\",\"watch\"]\n",
    "objects=[\"Baseball\",\"Cricket\"] \n",
    "\n",
    "for i in range(len(subjects)):\n",
    "    for j in range(len(verbs)):\n",
    "        for k in range(len(objects)):\n",
    "            print(subjects[i]+\" \" + verbs[j] +\" \"+ objects[k])"
   ]
  },
  {
   "cell_type": "code",
   "execution_count": null,
   "metadata": {},
   "outputs": [],
   "source": []
  }
 ],
 "metadata": {
  "kernelspec": {
   "display_name": "Python 3",
   "language": "python",
   "name": "python3"
  },
  "language_info": {
   "codemirror_mode": {
    "name": "ipython",
    "version": 3
   },
   "file_extension": ".py",
   "mimetype": "text/x-python",
   "name": "python",
   "nbconvert_exporter": "python",
   "pygments_lexer": "ipython3",
   "version": "3.7.4"
  }
 },
 "nbformat": 4,
 "nbformat_minor": 2
}
