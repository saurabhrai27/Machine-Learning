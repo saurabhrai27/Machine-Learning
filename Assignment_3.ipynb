{
 "cells": [
  {
   "cell_type": "markdown",
   "metadata": {},
   "source": [
    "### 1\n",
    "\n",
    "Write a Python Program to implement your own myreduce() function which works exactly like Python's built-in function reduce() "
   ]
  },
  {
   "cell_type": "code",
   "execution_count": 21,
   "metadata": {},
   "outputs": [
    {
     "name": "stdout",
     "output_type": "stream",
     "text": [
      "Result :-  15\n",
      "Result :-  6\n"
     ]
    }
   ],
   "source": [
    "# Solution\n",
    "def my_reduce(func, ls):\n",
    "    '''Pass a function followed by a sequence'''\n",
    "    op = ls[0]\n",
    "    for val in ls[1:]:\n",
    "        op = func(op,val)\n",
    "    \n",
    "    return op\n",
    "\n",
    "def sum(x,y):\n",
    "    return x + y\n",
    "\n",
    "# testing with user defined function\n",
    "print(\"Result :- \",(my_reduce(sum,[1,2,3,4,5])))\n",
    "\n",
    "# testing with lambda function\n",
    "print(\"Result :- \",(my_reduce(lambda x, y : x*y, [1,2,3])))"
   ]
  },
  {
   "cell_type": "markdown",
   "metadata": {},
   "source": [
    "### 2\n",
    "\n",
    "Write a Python program to implement your own myfilter() function which works exactly like Python's built-in function filter()"
   ]
  },
  {
   "cell_type": "code",
   "execution_count": 3,
   "metadata": {},
   "outputs": [
    {
     "name": "stdout",
     "output_type": "stream",
     "text": [
      "Filtered Sequence :- [1, 3, 5, 7, 9]\n",
      "Filtered Sequence :- [2, 4, 6, 8, 10]\n"
     ]
    }
   ],
   "source": [
    "# Solution \n",
    "def my_filter(func, ls):\n",
    "    ''' pass a function followed by an sequence '''\n",
    "    output = []\n",
    "    for val in ls:\n",
    "        if func(val):\n",
    "            output.append(val)\n",
    "    return output\n",
    "\n",
    "# function for testing the my_filter\n",
    "def is_even(val):\n",
    "    if val % 2 == 0:\n",
    "        return True\n",
    "    return False \n",
    "\n",
    "# testing with lambda function\n",
    "print(\"Filtered Sequence :-\",(my_filter(lambda x : x % 2,[1,2,3,4,5,6,7,8,9,10])))\n",
    "\n",
    "# testing with user defined function\n",
    "print(\"Filtered Sequence :-\",(my_filter(is_even,[1,2,3,4,5,6,7,8,9,10])))"
   ]
  },
  {
   "cell_type": "markdown",
   "metadata": {},
   "source": [
    "### 3\n",
    "\n",
    "Implement List comprehensions to produce the following lists. \n",
    " \n",
    "Write List comprehensions to produce the following Lists \n",
    " \n",
    "['x', 'xx', 'xxx', 'xxxx', 'y', 'yy', 'yyy', 'yyyy', 'z', 'zz', 'zzz', 'zzzz'] \n",
    "\n",
    "['x', 'y', 'z', 'xx', 'yy', 'zz', 'xxx', 'yyy', 'zzz', 'xxxx', 'yyyy', 'zzzz'] \n",
    "\n",
    "[[2], [3], [4], [3], [4], [5], [4], [5], [6]] \n",
    "\n",
    "[[2, 3, 4, 5], [3, 4, 5, 6], [4, 5, 6, 7], [5, 6, 7, 8]] \n",
    " \n",
    "[(1, 1), (2, 1), (3, 1), (1, 2), (2, 2), (3, 2), (1, 3), (2, 3), (3, 3)] "
   ]
  },
  {
   "cell_type": "code",
   "execution_count": 4,
   "metadata": {},
   "outputs": [
    {
     "name": "stdout",
     "output_type": "stream",
     "text": [
      "First Sequence :- ['x', 'xx', 'xxx', 'xxxx', 'y', 'yy', 'yyy', 'yyyy', 'z', 'zz', 'zzz', 'zzzz']\n"
     ]
    }
   ],
   "source": [
    "ls = ['x','y','z']\n",
    "# 1st Sequence\n",
    "seq1 = [ i*j for i in ls for j in range(1,5)]\n",
    "print(\"First Sequence :-\",seq1)"
   ]
  },
  {
   "cell_type": "code",
   "execution_count": 5,
   "metadata": {},
   "outputs": [
    {
     "name": "stdout",
     "output_type": "stream",
     "text": [
      "Second Sequence :- ['x', 'y', 'z', 'xx', 'yy', 'zz', 'xxx', 'yyy', 'zzz', 'xxxx', 'yyyy', 'zzzz']\n"
     ]
    }
   ],
   "source": [
    "# 2nd Sequence\n",
    "seq2 = [i*j for j in range(1,5) for i in ls]\n",
    "print(\"Second Sequence :-\",seq2)"
   ]
  },
  {
   "cell_type": "code",
   "execution_count": 6,
   "metadata": {},
   "outputs": [
    {
     "name": "stdout",
     "output_type": "stream",
     "text": [
      "Third Sequence :- [[2], [3], [4], [3], [4], [5], [4], [5], [6]]\n"
     ]
    }
   ],
   "source": [
    "# 3rd Sequence\n",
    "seq3 = [[j+i] for i in range(0,3) for j in range(2,5)]\n",
    "print(\"Third Sequence :-\",seq3)"
   ]
  },
  {
   "cell_type": "code",
   "execution_count": 7,
   "metadata": {},
   "outputs": [
    {
     "name": "stdout",
     "output_type": "stream",
     "text": [
      "Fourth Sequence :- [[2, 3, 4, 5], [3, 4, 5, 6], [4, 5, 6, 7], [5, 6, 7, 8]]\n"
     ]
    }
   ],
   "source": [
    "# 4rth Sequence\n",
    "seq4 = [[i+j for i in range(2,6)] for j in range(4)]\n",
    "print(\"Fourth Sequence :-\",seq4)"
   ]
  },
  {
   "cell_type": "code",
   "execution_count": 8,
   "metadata": {},
   "outputs": [
    {
     "name": "stdout",
     "output_type": "stream",
     "text": [
      "Fifth Sequence :- [(1, 1), (2, 1), (3, 1), (1, 2), (2, 2), (3, 2), (1, 3), (2, 3), (3, 3)]\n"
     ]
    }
   ],
   "source": [
    "# 5th Sequence\n",
    "seq5 = [(j,i) for i in range(1,4) for j in range(1,4) ]\n",
    "print(\"Fifth Sequence :-\",seq5)"
   ]
  },
  {
   "cell_type": "code",
   "execution_count": null,
   "metadata": {},
   "outputs": [],
   "source": []
  }
 ],
 "metadata": {
  "kernelspec": {
   "display_name": "Python 3",
   "language": "python",
   "name": "python3"
  },
  "language_info": {
   "codemirror_mode": {
    "name": "ipython",
    "version": 3
   },
   "file_extension": ".py",
   "mimetype": "text/x-python",
   "name": "python",
   "nbconvert_exporter": "python",
   "pygments_lexer": "ipython3",
   "version": "3.7.4"
  }
 },
 "nbformat": 4,
 "nbformat_minor": 2
}
